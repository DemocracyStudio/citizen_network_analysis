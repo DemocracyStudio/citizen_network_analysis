{
 "cells": [
  {
   "cell_type": "markdown",
   "metadata": {},
   "source": [
    "# link prediction with machine learning"
   ]
  },
  {
   "cell_type": "code",
   "execution_count": 20,
   "metadata": {},
   "outputs": [],
   "source": [
    "import pandas as pd\n",
    "import numpy as np\n",
    "import random\n",
    "import networkx as nx\n",
    "from tqdm import tqdm\n",
    "import operator\n",
    "import re\n",
    "import matplotlib.pyplot as plt\n",
    "\n",
    "from imblearn.under_sampling import RandomUnderSampler\n",
    "from sklearn.preprocessing import StandardScaler\n",
    "\n",
    "from sklearn.ensemble import RandomForestClassifier\n",
    "from sklearn.linear_model import LogisticRegression\n",
    "from sklearn.model_selection import train_test_split\n",
    "\n",
    "from sklearn.metrics import accuracy_score\n",
    "from sklearn.metrics import f1_score\n",
    "from sklearn.metrics import roc_auc_score\n",
    "from sklearn.metrics import recall_score\n",
    "from sklearn.metrics import precision_score\n",
    "from sklearn.metrics import mean_absolute_error\n",
    "from sklearn.metrics import mean_squared_error\n",
    "from sklearn.metrics import r2_score\n",
    "from sklearn.metrics import confusion_matrix"
   ]
  },
  {
   "cell_type": "code",
   "execution_count": 3,
   "metadata": {},
   "outputs": [],
   "source": [
    "# import link prediction files\n",
    "taipei_edge = pd.read_csv('/Users/juliencarbonnell/Desktop/Thèse/DONNÉES/1.Twitter/SNA/link prediction files/taipei_edge.csv')\n",
    "telaviv_edge = pd.read_csv('/Users/juliencarbonnell/Desktop/Thèse/DONNÉES/1.Twitter/SNA/link prediction files/telaviv_edge.csv')\n",
    "tallinn_edge = pd.read_csv('/Users/juliencarbonnell/Desktop/Thèse/DONNÉES/1.Twitter/SNA/link prediction files/tallinn_edge.csv')\n",
    "\n",
    "public_edge = pd.read_csv('/Users/juliencarbonnell/Desktop/Thèse/DONNÉES/1.Twitter/SNA/link prediction files/public_edge.csv')\n",
    "corpo_edge = pd.read_csv('/Users/juliencarbonnell/Desktop/Thèse/DONNÉES/1.Twitter/SNA/link prediction files/corpo_edge.csv')\n",
    "startup_edge = pd.read_csv('/Users/juliencarbonnell/Desktop/Thèse/DONNÉES/1.Twitter/SNA/link prediction files/startup_edge.csv')\n",
    "academic_edge = pd.read_csv('/Users/juliencarbonnell/Desktop/Thèse/DONNÉES/1.Twitter/SNA/link prediction files/academic_edge.csv')\n",
    "civil_edge = pd.read_csv('/Users/juliencarbonnell/Desktop/Thèse/DONNÉES/1.Twitter/SNA/link prediction files/civil_edge.csv')\n",
    "media_edge = pd.read_csv('/Users/juliencarbonnell/Desktop/Thèse/DONNÉES/1.Twitter/SNA/link prediction files/media_edge.csv')"
   ]
  },
  {
   "cell_type": "markdown",
   "metadata": {},
   "source": [
    "# 1. Link Prediction"
   ]
  },
  {
   "cell_type": "markdown",
   "metadata": {},
   "source": [
    "# Taipei"
   ]
  },
  {
   "cell_type": "code",
   "execution_count": 92,
   "metadata": {},
   "outputs": [],
   "source": [
    "# under sampling\n",
    "X_tp = taipei_edge.drop(['0','1','isedge?'], axis=1)\n",
    "y_tp = taipei_edge['isedge?']"
   ]
  },
  {
   "cell_type": "code",
   "execution_count": 93,
   "metadata": {},
   "outputs": [
    {
     "data": {
      "text/plain": [
       "0    39599685\n",
       "1        9812\n",
       "Name: isedge?, dtype: int64"
      ]
     },
     "execution_count": 93,
     "metadata": {},
     "output_type": "execute_result"
    }
   ],
   "source": [
    "y_tp.value_counts()\n",
    "# highly un-balanced"
   ]
  },
  {
   "cell_type": "code",
   "execution_count": 94,
   "metadata": {},
   "outputs": [],
   "source": [
    "rus = RandomUnderSampler()\n",
    "X_tpspl, y_tpspl = rus.fit_resample(X_tp, y_tp)"
   ]
  },
  {
   "cell_type": "code",
   "execution_count": 95,
   "metadata": {},
   "outputs": [
    {
     "data": {
      "text/plain": [
       "0    9812\n",
       "1    9812\n",
       "Name: isedge?, dtype: int64"
      ]
     },
     "execution_count": 95,
     "metadata": {},
     "output_type": "execute_result"
    }
   ],
   "source": [
    "y_tpspl.value_counts()"
   ]
  },
  {
   "cell_type": "code",
   "execution_count": 18,
   "metadata": {},
   "outputs": [],
   "source": [
    "X_tptrain, X_tptest, y_tptrain, y_tptest = train_test_split(X_tpspl, y_tpspl, test_size = 0.3, random_state = 35)"
   ]
  },
  {
   "cell_type": "code",
   "execution_count": 21,
   "metadata": {},
   "outputs": [],
   "source": [
    "rf = RandomForestClassifier()\n",
    "rf.fit(X_tptrain, y_tptrain)\n",
    "tp_pred = rf.predict(X_tptest)"
   ]
  },
  {
   "cell_type": "code",
   "execution_count": 23,
   "metadata": {},
   "outputs": [
    {
     "name": "stdout",
     "output_type": "stream",
     "text": [
      "0.9308763586956522\n",
      "0.9305816135084428\n",
      "0.9309091320264286\n",
      "0.9228687415426252\n",
      "0.9384244926040591\n",
      "0.06912364130434782\n",
      "0.06912364130434782\n",
      "0.26291375259645094\n",
      "0.7235008408915111\n",
      "3.6166475269736136\n"
     ]
    }
   ],
   "source": [
    "print(accuracy_score(y_tptest, tp_pred))\n",
    "print(f1_score(y_tptest, tp_pred))\n",
    "print(roc_auc_score(y_tptest, tp_pred))\n",
    "print(recall_score(y_tptest, tp_pred))\n",
    "print(precision_score(y_tptest, tp_pred))\n",
    "print(mean_absolute_error(y_tptest, tp_pred))\n",
    "print(mean_squared_error(y_tptest, tp_pred))\n",
    "print(np.sqrt(mean_squared_error(y_tptest, tp_pred)))\n",
    "print(r2_score(y_tptest, tp_pred))\n",
    "print(1/(1-r2_score(y_tptest, tp_pred)))"
   ]
  },
  {
   "cell_type": "markdown",
   "metadata": {},
   "source": [
    "# Tel Aviv"
   ]
  },
  {
   "cell_type": "code",
   "execution_count": 32,
   "metadata": {},
   "outputs": [],
   "source": [
    "# under sampling\n",
    "X_tlv = telaviv_edge.drop(['0','1','isedge?'], axis=1)\n",
    "y_tlv = telaviv_edge['isedge?']"
   ]
  },
  {
   "cell_type": "code",
   "execution_count": 33,
   "metadata": {},
   "outputs": [
    {
     "data": {
      "text/plain": [
       "0    214770053\n",
       "1        23942\n",
       "Name: isedge?, dtype: int64"
      ]
     },
     "execution_count": 33,
     "metadata": {},
     "output_type": "execute_result"
    }
   ],
   "source": [
    "y_tlv.value_counts()\n",
    "# highly un-balanced"
   ]
  },
  {
   "cell_type": "code",
   "execution_count": 34,
   "metadata": {},
   "outputs": [],
   "source": [
    "rus = RandomUnderSampler()\n",
    "X_tlvspl, y_tlvspl = rus.fit_resample(X_tlv, y_tlv)"
   ]
  },
  {
   "cell_type": "code",
   "execution_count": 35,
   "metadata": {},
   "outputs": [
    {
     "data": {
      "text/plain": [
       "0    23942\n",
       "1    23942\n",
       "Name: isedge?, dtype: int64"
      ]
     },
     "execution_count": 35,
     "metadata": {},
     "output_type": "execute_result"
    }
   ],
   "source": [
    "y_tlvspl.value_counts()"
   ]
  },
  {
   "cell_type": "code",
   "execution_count": 36,
   "metadata": {},
   "outputs": [],
   "source": [
    "X_tlvtrain, X_tlvtest, y_tlvtrain, y_tlvtest = train_test_split(X_tlvspl, y_tlvspl, test_size = 0.3, random_state = 35)"
   ]
  },
  {
   "cell_type": "code",
   "execution_count": 39,
   "metadata": {},
   "outputs": [],
   "source": [
    "rf = RandomForestClassifier()\n",
    "rf.fit(X_tlvtrain, y_tlvtrain)\n",
    "tlv_pred = rf.predict(X_tlvtest)"
   ]
  },
  {
   "cell_type": "code",
   "execution_count": 40,
   "metadata": {},
   "outputs": [
    {
     "name": "stdout",
     "output_type": "stream",
     "text": [
      "0.9401364332451622\n",
      "0.9394792399718508\n",
      "0.9401740393696758\n",
      "0.9427966101694916\n",
      "0.9361851332398317\n",
      "0.05986356675483781\n",
      "0.05986356675483781\n",
      "0.24467032258702281\n",
      "0.7604964865673818\n",
      "4.175304093321117\n"
     ]
    }
   ],
   "source": [
    "print(accuracy_score(y_tlvtest, tlv_pred))\n",
    "print(f1_score(y_tlvtest, tlv_pred))\n",
    "print(roc_auc_score(y_tlvtest, tlv_pred))\n",
    "print(recall_score(y_tlvtest, tlv_pred))\n",
    "print(precision_score(y_tlvtest, tlv_pred))\n",
    "print(mean_absolute_error(y_tlvtest, tlv_pred))\n",
    "print(mean_squared_error(y_tlvtest, tlv_pred))\n",
    "print(np.sqrt(mean_squared_error(y_tlvtest, tlv_pred)))\n",
    "print(r2_score(y_tlvtest, tlv_pred))\n",
    "print(1/(1-r2_score(y_tlvtest, tlv_pred)))"
   ]
  },
  {
   "cell_type": "markdown",
   "metadata": {},
   "source": [
    "# Tallinn"
   ]
  },
  {
   "cell_type": "code",
   "execution_count": 41,
   "metadata": {},
   "outputs": [],
   "source": [
    "# under sampling\n",
    "X_tl = tallinn_edge.drop(['0','1','isedge?'], axis=1)\n",
    "y_tl = tallinn_edge['isedge?']"
   ]
  },
  {
   "cell_type": "code",
   "execution_count": 42,
   "metadata": {},
   "outputs": [
    {
     "data": {
      "text/plain": [
       "0    25441924\n",
       "1        8669\n",
       "Name: isedge?, dtype: int64"
      ]
     },
     "execution_count": 42,
     "metadata": {},
     "output_type": "execute_result"
    }
   ],
   "source": [
    "y_tl.value_counts()\n",
    "# highly un-balanced"
   ]
  },
  {
   "cell_type": "code",
   "execution_count": 43,
   "metadata": {},
   "outputs": [],
   "source": [
    "X_tlspl, y_tlspl = rus.fit_resample(X_tl, y_tl)"
   ]
  },
  {
   "cell_type": "code",
   "execution_count": 44,
   "metadata": {},
   "outputs": [
    {
     "data": {
      "text/plain": [
       "0    8669\n",
       "1    8669\n",
       "Name: isedge?, dtype: int64"
      ]
     },
     "execution_count": 44,
     "metadata": {},
     "output_type": "execute_result"
    }
   ],
   "source": [
    "y_tlspl.value_counts()"
   ]
  },
  {
   "cell_type": "code",
   "execution_count": 45,
   "metadata": {},
   "outputs": [],
   "source": [
    "X_tltrain, X_tltest, y_tltrain, y_tltest = train_test_split(X_tlspl, y_tlspl, test_size = 0.3, random_state = 35)"
   ]
  },
  {
   "cell_type": "code",
   "execution_count": 46,
   "metadata": {},
   "outputs": [],
   "source": [
    "rf = RandomForestClassifier()\n",
    "rf.fit(X_tltrain, y_tltrain)\n",
    "tl_pred = rf.predict(X_tltest)"
   ]
  },
  {
   "cell_type": "code",
   "execution_count": 47,
   "metadata": {},
   "outputs": [
    {
     "name": "stdout",
     "output_type": "stream",
     "text": [
      "0.9361783929257977\n",
      "0.9358578052550233\n",
      "0.9362213799528962\n",
      "0.926903941829315\n",
      "0.944986344127975\n",
      "0.06382160707420223\n",
      "0.06382160707420223\n",
      "0.25262938679853186\n",
      "0.7447081377141389\n",
      "3.9170852962021083\n"
     ]
    }
   ],
   "source": [
    "print(accuracy_score(y_tltest, tl_pred))\n",
    "print(f1_score(y_tltest, tl_pred))\n",
    "print(roc_auc_score(y_tltest, tl_pred))\n",
    "print(recall_score(y_tltest, tl_pred))\n",
    "print(precision_score(y_tltest, tl_pred))\n",
    "print(mean_absolute_error(y_tltest, tl_pred))\n",
    "print(mean_squared_error(y_tltest, tl_pred))\n",
    "print(np.sqrt(mean_squared_error(y_tltest, tl_pred)))\n",
    "print(r2_score(y_tltest, tl_pred))\n",
    "print(1/(1-r2_score(y_tltest, tl_pred)))"
   ]
  },
  {
   "cell_type": "markdown",
   "metadata": {},
   "source": [
    "# Public"
   ]
  },
  {
   "cell_type": "code",
   "execution_count": 48,
   "metadata": {},
   "outputs": [],
   "source": [
    "# under sampling\n",
    "X_pub = public_edge.drop(['0','1','isedge?'], axis=1)\n",
    "y_pub = public_edge['isedge?']"
   ]
  },
  {
   "cell_type": "code",
   "execution_count": 49,
   "metadata": {},
   "outputs": [
    {
     "data": {
      "text/plain": [
       "0    2338189\n",
       "1       2179\n",
       "Name: isedge?, dtype: int64"
      ]
     },
     "execution_count": 49,
     "metadata": {},
     "output_type": "execute_result"
    }
   ],
   "source": [
    "y_pub.value_counts()\n",
    "# highly un-balanced"
   ]
  },
  {
   "cell_type": "code",
   "execution_count": 50,
   "metadata": {},
   "outputs": [],
   "source": [
    "X_pubspl, y_pubspl = rus.fit_resample(X_pub, y_pub)"
   ]
  },
  {
   "cell_type": "code",
   "execution_count": 51,
   "metadata": {},
   "outputs": [
    {
     "data": {
      "text/plain": [
       "0    2179\n",
       "1    2179\n",
       "Name: isedge?, dtype: int64"
      ]
     },
     "execution_count": 51,
     "metadata": {},
     "output_type": "execute_result"
    }
   ],
   "source": [
    "y_pubspl.value_counts()"
   ]
  },
  {
   "cell_type": "code",
   "execution_count": 52,
   "metadata": {},
   "outputs": [],
   "source": [
    "X_pubtrain, X_pubtest, y_pubtrain, y_pubtest = train_test_split(X_pubspl, y_pubspl, test_size = 0.3, random_state = 35)"
   ]
  },
  {
   "cell_type": "code",
   "execution_count": 53,
   "metadata": {},
   "outputs": [],
   "source": [
    "rf = RandomForestClassifier()\n",
    "rf.fit(X_pubtrain, y_pubtrain)\n",
    "pub_pred = rf.predict(X_pubtest)"
   ]
  },
  {
   "cell_type": "code",
   "execution_count": 54,
   "metadata": {},
   "outputs": [
    {
     "name": "stdout",
     "output_type": "stream",
     "text": [
      "1.0\n",
      "1.0\n",
      "1.0\n",
      "1.0\n",
      "1.0\n",
      "0.0\n",
      "0.0\n",
      "0.0\n",
      "1.0\n",
      "inf\n"
     ]
    },
    {
     "name": "stderr",
     "output_type": "stream",
     "text": [
      "<ipython-input-54-86eaf2502a0c>:10: RuntimeWarning: divide by zero encountered in double_scalars\n",
      "  print(1/(1-r2_score(y_pubtest, pub_pred)))\n"
     ]
    }
   ],
   "source": [
    "print(accuracy_score(y_pubtest, pub_pred))\n",
    "print(f1_score(y_pubtest, pub_pred))\n",
    "print(roc_auc_score(y_pubtest, pub_pred))\n",
    "print(recall_score(y_pubtest, pub_pred))\n",
    "print(precision_score(y_pubtest, pub_pred))\n",
    "print(mean_absolute_error(y_pubtest, pub_pred))\n",
    "print(mean_squared_error(y_pubtest, pub_pred))\n",
    "print(np.sqrt(mean_squared_error(y_pubtest, pub_pred)))\n",
    "print(r2_score(y_pubtest, pub_pred))\n",
    "print(1/(1-r2_score(y_pubtest, pub_pred)))"
   ]
  },
  {
   "cell_type": "markdown",
   "metadata": {},
   "source": [
    "# Corpo"
   ]
  },
  {
   "cell_type": "code",
   "execution_count": 56,
   "metadata": {},
   "outputs": [],
   "source": [
    "# under sampling\n",
    "X_crp = corpo_edge.drop(['0','1','isedge?'], axis=1)\n",
    "y_crp = corpo_edge['isedge?']"
   ]
  },
  {
   "cell_type": "code",
   "execution_count": 57,
   "metadata": {},
   "outputs": [
    {
     "data": {
      "text/plain": [
       "0    31406711\n",
       "1        7993\n",
       "Name: isedge?, dtype: int64"
      ]
     },
     "execution_count": 57,
     "metadata": {},
     "output_type": "execute_result"
    }
   ],
   "source": [
    "y_crp.value_counts()\n",
    "# highly un-balanced"
   ]
  },
  {
   "cell_type": "code",
   "execution_count": 58,
   "metadata": {},
   "outputs": [],
   "source": [
    "X_crpspl, y_crpspl = rus.fit_resample(X_crp, y_crp)"
   ]
  },
  {
   "cell_type": "code",
   "execution_count": 59,
   "metadata": {},
   "outputs": [
    {
     "data": {
      "text/plain": [
       "0    7993\n",
       "1    7993\n",
       "Name: isedge?, dtype: int64"
      ]
     },
     "execution_count": 59,
     "metadata": {},
     "output_type": "execute_result"
    }
   ],
   "source": [
    "y_crpspl.value_counts()"
   ]
  },
  {
   "cell_type": "code",
   "execution_count": 60,
   "metadata": {},
   "outputs": [],
   "source": [
    "X_crptrain, X_crptest, y_crptrain, y_crptest = train_test_split(X_crpspl, y_crpspl, test_size = 0.3, random_state = 35)"
   ]
  },
  {
   "cell_type": "code",
   "execution_count": 61,
   "metadata": {},
   "outputs": [],
   "source": [
    "rf = RandomForestClassifier()\n",
    "rf.fit(X_crptrain, y_crptrain)\n",
    "crp_pred = rf.predict(X_crptest)"
   ]
  },
  {
   "cell_type": "code",
   "execution_count": 62,
   "metadata": {},
   "outputs": [
    {
     "name": "stdout",
     "output_type": "stream",
     "text": [
      "0.999791492910759\n",
      "0.9997918834547346\n",
      "0.9997911445279866\n",
      "1.0\n",
      "0.9995838535164377\n",
      "0.0002085070892410342\n",
      "0.0002085070892410342\n",
      "0.014439774556447694\n",
      "0.9991659693224179\n",
      "1198.9966638865167\n"
     ]
    }
   ],
   "source": [
    "print(accuracy_score(y_crptest, crp_pred))\n",
    "print(f1_score(y_crptest, crp_pred))\n",
    "print(roc_auc_score(y_crptest, crp_pred))\n",
    "print(recall_score(y_crptest, crp_pred))\n",
    "print(precision_score(y_crptest, crp_pred))\n",
    "print(mean_absolute_error(y_crptest, crp_pred))\n",
    "print(mean_squared_error(y_crptest, crp_pred))\n",
    "print(np.sqrt(mean_squared_error(y_crptest, crp_pred)))\n",
    "print(r2_score(y_crptest, crp_pred))\n",
    "print(1/(1-r2_score(y_crptest, crp_pred)))"
   ]
  },
  {
   "cell_type": "markdown",
   "metadata": {},
   "source": [
    "# startup"
   ]
  },
  {
   "cell_type": "code",
   "execution_count": 63,
   "metadata": {},
   "outputs": [],
   "source": [
    "# under sampling\n",
    "X_str = startup_edge.drop(['0','1','isedge?'], axis=1)\n",
    "y_str = startup_edge['isedge?']"
   ]
  },
  {
   "cell_type": "code",
   "execution_count": 64,
   "metadata": {},
   "outputs": [
    {
     "data": {
      "text/plain": [
       "0    32687551\n",
       "1        8193\n",
       "Name: isedge?, dtype: int64"
      ]
     },
     "execution_count": 64,
     "metadata": {},
     "output_type": "execute_result"
    }
   ],
   "source": [
    "y_str.value_counts()\n",
    "# highly un-balanced"
   ]
  },
  {
   "cell_type": "code",
   "execution_count": 65,
   "metadata": {},
   "outputs": [],
   "source": [
    "X_strspl, y_strspl = rus.fit_resample(X_str, y_str)"
   ]
  },
  {
   "cell_type": "code",
   "execution_count": 66,
   "metadata": {},
   "outputs": [
    {
     "data": {
      "text/plain": [
       "0    8193\n",
       "1    8193\n",
       "Name: isedge?, dtype: int64"
      ]
     },
     "execution_count": 66,
     "metadata": {},
     "output_type": "execute_result"
    }
   ],
   "source": [
    "y_strspl.value_counts()"
   ]
  },
  {
   "cell_type": "code",
   "execution_count": 67,
   "metadata": {},
   "outputs": [],
   "source": [
    "X_strtrain, X_strtest, y_strtrain, y_strtest = train_test_split(X_strspl, y_strspl, test_size = 0.3, random_state = 35)"
   ]
  },
  {
   "cell_type": "code",
   "execution_count": 68,
   "metadata": {},
   "outputs": [],
   "source": [
    "rf = RandomForestClassifier()\n",
    "rf.fit(X_strtrain, y_strtrain)\n",
    "str_pred = rf.predict(X_strtest)"
   ]
  },
  {
   "cell_type": "code",
   "execution_count": 69,
   "metadata": {},
   "outputs": [
    {
     "name": "stdout",
     "output_type": "stream",
     "text": [
      "0.9997965825874695\n",
      "0.9997980206018987\n",
      "0.9997951659156084\n",
      "1.0\n",
      "0.9995961227786753\n",
      "0.0002034174125305126\n",
      "0.0002034174125305126\n",
      "0.014262447634628238\n",
      "0.9991862914271763\n",
      "1228.9412123677607\n"
     ]
    }
   ],
   "source": [
    "print(accuracy_score(y_strtest, str_pred))\n",
    "print(f1_score(y_strtest, str_pred))\n",
    "print(roc_auc_score(y_strtest, str_pred))\n",
    "print(recall_score(y_strtest, str_pred))\n",
    "print(precision_score(y_strtest, str_pred))\n",
    "print(mean_absolute_error(y_strtest, str_pred))\n",
    "print(mean_squared_error(y_strtest, str_pred))\n",
    "print(np.sqrt(mean_squared_error(y_strtest, str_pred)))\n",
    "print(r2_score(y_strtest, str_pred))\n",
    "print(1/(1-r2_score(y_strtest, str_pred)))"
   ]
  },
  {
   "cell_type": "markdown",
   "metadata": {},
   "source": [
    "# academic"
   ]
  },
  {
   "cell_type": "code",
   "execution_count": 70,
   "metadata": {},
   "outputs": [],
   "source": [
    "# under sampling\n",
    "X_aca = academic_edge.drop(['0','1','isedge?'], axis=1)\n",
    "y_aca = academic_edge['isedge?']"
   ]
  },
  {
   "cell_type": "code",
   "execution_count": 71,
   "metadata": {},
   "outputs": [
    {
     "data": {
      "text/plain": [
       "0    9016344\n",
       "1       4287\n",
       "Name: isedge?, dtype: int64"
      ]
     },
     "execution_count": 71,
     "metadata": {},
     "output_type": "execute_result"
    }
   ],
   "source": [
    "y_aca.value_counts()\n",
    "# highly un-balanced"
   ]
  },
  {
   "cell_type": "code",
   "execution_count": 72,
   "metadata": {},
   "outputs": [],
   "source": [
    "X_acaspl, y_acaspl = rus.fit_resample(X_aca, y_aca)"
   ]
  },
  {
   "cell_type": "code",
   "execution_count": 73,
   "metadata": {},
   "outputs": [
    {
     "data": {
      "text/plain": [
       "0    4287\n",
       "1    4287\n",
       "Name: isedge?, dtype: int64"
      ]
     },
     "execution_count": 73,
     "metadata": {},
     "output_type": "execute_result"
    }
   ],
   "source": [
    "y_acaspl.value_counts()"
   ]
  },
  {
   "cell_type": "code",
   "execution_count": 74,
   "metadata": {},
   "outputs": [],
   "source": [
    "X_acatrain, X_acatest, y_acatrain, y_acatest = train_test_split(X_acaspl, y_acaspl, test_size = 0.3, random_state = 35)"
   ]
  },
  {
   "cell_type": "code",
   "execution_count": 75,
   "metadata": {},
   "outputs": [],
   "source": [
    "rf = RandomForestClassifier()\n",
    "rf.fit(X_acatrain, y_acatrain)\n",
    "aca_pred = rf.predict(X_acatest)"
   ]
  },
  {
   "cell_type": "code",
   "execution_count": 76,
   "metadata": {},
   "outputs": [
    {
     "name": "stdout",
     "output_type": "stream",
     "text": [
      "0.9992226972405752\n",
      "0.9992163009404388\n",
      "0.9992295839753467\n",
      "1.0\n",
      "0.9984338292873923\n",
      "0.000777302759424796\n",
      "0.000777302759424796\n",
      "0.027880149917545206\n",
      "0.9968905404997129\n",
      "321.599300427511\n"
     ]
    }
   ],
   "source": [
    "print(accuracy_score(y_acatest, aca_pred))\n",
    "print(f1_score(y_acatest, aca_pred))\n",
    "print(roc_auc_score(y_acatest, aca_pred))\n",
    "print(recall_score(y_acatest, aca_pred))\n",
    "print(precision_score(y_acatest, aca_pred))\n",
    "print(mean_absolute_error(y_acatest, aca_pred))\n",
    "print(mean_squared_error(y_acatest, aca_pred))\n",
    "print(np.sqrt(mean_squared_error(y_acatest, aca_pred)))\n",
    "print(r2_score(y_acatest, aca_pred))\n",
    "print(1/(1-r2_score(y_acatest, aca_pred)))"
   ]
  },
  {
   "cell_type": "markdown",
   "metadata": {},
   "source": [
    "# civil"
   ]
  },
  {
   "cell_type": "code",
   "execution_count": 77,
   "metadata": {},
   "outputs": [],
   "source": [
    "# under sampling\n",
    "X_civ = civil_edge.drop(['0','1','isedge?'], axis=1)\n",
    "y_civ = civil_edge['isedge?']"
   ]
  },
  {
   "cell_type": "code",
   "execution_count": 78,
   "metadata": {},
   "outputs": [
    {
     "data": {
      "text/plain": [
       "0    3071474\n",
       "1       2489\n",
       "Name: isedge?, dtype: int64"
      ]
     },
     "execution_count": 78,
     "metadata": {},
     "output_type": "execute_result"
    }
   ],
   "source": [
    "y_civ.value_counts()\n",
    "# highly un-balanced"
   ]
  },
  {
   "cell_type": "code",
   "execution_count": 79,
   "metadata": {},
   "outputs": [],
   "source": [
    "X_civspl, y_civspl = rus.fit_resample(X_civ, y_civ)"
   ]
  },
  {
   "cell_type": "code",
   "execution_count": 80,
   "metadata": {},
   "outputs": [
    {
     "data": {
      "text/plain": [
       "0    2489\n",
       "1    2489\n",
       "Name: isedge?, dtype: int64"
      ]
     },
     "execution_count": 80,
     "metadata": {},
     "output_type": "execute_result"
    }
   ],
   "source": [
    "y_civspl.value_counts()"
   ]
  },
  {
   "cell_type": "code",
   "execution_count": 81,
   "metadata": {},
   "outputs": [],
   "source": [
    "X_civtrain, X_civtest, y_civtrain, y_civtest = train_test_split(X_civspl, y_civspl, test_size = 0.3, random_state = 35)"
   ]
  },
  {
   "cell_type": "code",
   "execution_count": 82,
   "metadata": {},
   "outputs": [],
   "source": [
    "rf = RandomForestClassifier()\n",
    "rf.fit(X_civtrain, y_civtrain)\n",
    "civ_pred = rf.predict(X_civtest)"
   ]
  },
  {
   "cell_type": "code",
   "execution_count": 83,
   "metadata": {},
   "outputs": [
    {
     "name": "stdout",
     "output_type": "stream",
     "text": [
      "0.9973226238286479\n",
      "0.9972565157750343\n",
      "0.9973210683450335\n",
      "0.9972565157750343\n",
      "0.9972565157750343\n",
      "0.002677376171352075\n",
      "0.002677376171352075\n",
      "0.05174336838042219\n",
      "0.9892842733801339\n",
      "93.32078313252985\n"
     ]
    }
   ],
   "source": [
    "print(accuracy_score(y_civtest, civ_pred))\n",
    "print(f1_score(y_civtest, civ_pred))\n",
    "print(roc_auc_score(y_civtest, civ_pred))\n",
    "print(recall_score(y_civtest, civ_pred))\n",
    "print(precision_score(y_civtest, civ_pred))\n",
    "print(mean_absolute_error(y_civtest, civ_pred))\n",
    "print(mean_squared_error(y_civtest, civ_pred))\n",
    "print(np.sqrt(mean_squared_error(y_civtest, civ_pred)))\n",
    "print(r2_score(y_civtest, civ_pred))\n",
    "print(1/(1-r2_score(y_civtest, civ_pred)))"
   ]
  },
  {
   "cell_type": "markdown",
   "metadata": {},
   "source": [
    "# media"
   ]
  },
  {
   "cell_type": "code",
   "execution_count": 84,
   "metadata": {},
   "outputs": [],
   "source": [
    "# under sampling\n",
    "X_med = media_edge.drop(['0','1','isedge?'], axis=1)\n",
    "y_med = media_edge['isedge?']"
   ]
  },
  {
   "cell_type": "code",
   "execution_count": 85,
   "metadata": {},
   "outputs": [
    {
     "data": {
      "text/plain": [
       "0    3350150\n",
       "1       2607\n",
       "Name: isedge?, dtype: int64"
      ]
     },
     "execution_count": 85,
     "metadata": {},
     "output_type": "execute_result"
    }
   ],
   "source": [
    "y_med.value_counts()\n",
    "# highly un-balanced"
   ]
  },
  {
   "cell_type": "code",
   "execution_count": 86,
   "metadata": {},
   "outputs": [],
   "source": [
    "X_medspl, y_medspl = rus.fit_resample(X_med, y_med)"
   ]
  },
  {
   "cell_type": "code",
   "execution_count": 87,
   "metadata": {},
   "outputs": [
    {
     "data": {
      "text/plain": [
       "0    2607\n",
       "1    2607\n",
       "Name: isedge?, dtype: int64"
      ]
     },
     "execution_count": 87,
     "metadata": {},
     "output_type": "execute_result"
    }
   ],
   "source": [
    "y_medspl.value_counts()"
   ]
  },
  {
   "cell_type": "code",
   "execution_count": 88,
   "metadata": {},
   "outputs": [],
   "source": [
    "X_medtrain, X_medtest, y_medtrain, y_medtest = train_test_split(X_medspl, y_medspl, test_size = 0.3, random_state = 35)"
   ]
  },
  {
   "cell_type": "code",
   "execution_count": 89,
   "metadata": {},
   "outputs": [],
   "source": [
    "rf = RandomForestClassifier()\n",
    "rf.fit(X_medtrain, y_medtrain)\n",
    "med_pred = rf.predict(X_medtest)"
   ]
  },
  {
   "cell_type": "code",
   "execution_count": 90,
   "metadata": {},
   "outputs": [
    {
     "name": "stdout",
     "output_type": "stream",
     "text": [
      "0.9987220447284345\n",
      "0.9987228607918263\n",
      "0.9987228607918264\n",
      "1.0\n",
      "0.9974489795918368\n",
      "0.0012779552715654952\n",
      "0.0012779552715654952\n",
      "0.03574850027015812\n",
      "0.9948881768266193\n",
      "195.62492012779444\n"
     ]
    }
   ],
   "source": [
    "print(accuracy_score(y_medtest, med_pred))\n",
    "print(f1_score(y_medtest, med_pred))\n",
    "print(roc_auc_score(y_medtest, med_pred))\n",
    "print(recall_score(y_medtest, med_pred))\n",
    "print(precision_score(y_medtest, med_pred))\n",
    "print(mean_absolute_error(y_medtest, med_pred))\n",
    "print(mean_squared_error(y_medtest, med_pred))\n",
    "print(np.sqrt(mean_squared_error(y_medtest, med_pred)))\n",
    "print(r2_score(y_medtest, med_pred))\n",
    "print(1/(1-r2_score(y_medtest, med_pred)))"
   ]
  }
 ],
 "metadata": {
  "kernelspec": {
   "display_name": "Python 3",
   "language": "python",
   "name": "python3"
  },
  "language_info": {
   "codemirror_mode": {
    "name": "ipython",
    "version": 3
   },
   "file_extension": ".py",
   "mimetype": "text/x-python",
   "name": "python",
   "nbconvert_exporter": "python",
   "pygments_lexer": "ipython3",
   "version": "3.8.3"
  }
 },
 "nbformat": 4,
 "nbformat_minor": 4
}
